{
  "nbformat": 4,
  "nbformat_minor": 0,
  "metadata": {
    "colab": {
      "provenance": [],
      "authorship_tag": "ABX9TyO9JYR7+jGF0MaYRwTflAKK",
      "include_colab_link": true
    },
    "kernelspec": {
      "name": "python3",
      "display_name": "Python 3"
    },
    "language_info": {
      "name": "python"
    }
  },
  "cells": [
    {
      "cell_type": "markdown",
      "metadata": {
        "id": "view-in-github",
        "colab_type": "text"
      },
      "source": [
        "<a href=\"https://colab.research.google.com/github/AbbasAli01/AbbasAli/blob/main/Python_For_Absolute_Newbies.ipynb\" target=\"_parent\"><img src=\"https://colab.research.google.com/assets/colab-badge.svg\" alt=\"Open In Colab\"/></a>"
      ]
    },
    {
      "cell_type": "markdown",
      "source": [
        "# Hello World!"
      ],
      "metadata": {
        "id": "yMyA1UHXUXn4"
      }
    },
    {
      "cell_type": "code",
      "source": [
        "print(\"Hello World!\")"
      ],
      "metadata": {
        "colab": {
          "base_uri": "https://localhost:8080/"
        },
        "id": "rgvXJNrZvlrO",
        "outputId": "f1be40cd-5fd4-460b-d131-b1dd259a5227"
      },
      "execution_count": null,
      "outputs": [
        {
          "output_type": "stream",
          "name": "stdout",
          "text": [
            "Hello World!\n"
          ]
        }
      ]
    },
    {
      "cell_type": "markdown",
      "source": [
        "# Variables"
      ],
      "metadata": {
        "id": "9Pq-cvj0UeGv"
      }
    },
    {
      "cell_type": "code",
      "source": [
        "a = \"Hello World!\"\n",
        "print(a)"
      ],
      "metadata": {
        "id": "-Xag1r9R0PHJ",
        "colab": {
          "base_uri": "https://localhost:8080/"
        },
        "outputId": "a94f5a83-71fe-4ddf-f73c-77c429e03b56"
      },
      "execution_count": null,
      "outputs": [
        {
          "output_type": "stream",
          "name": "stdout",
          "text": [
            "Hello World!\n"
          ]
        }
      ]
    },
    {
      "cell_type": "code",
      "source": [
        "first name = \"Abbas\""
      ],
      "metadata": {
        "colab": {
          "base_uri": "https://localhost:8080/",
          "height": 106
        },
        "id": "n0jBE2fw4Cy_",
        "outputId": "83db5bff-1a42-4be1-e05f-cf688c6a0393"
      },
      "execution_count": null,
      "outputs": [
        {
          "output_type": "error",
          "ename": "SyntaxError",
          "evalue": "invalid syntax (<ipython-input-2-7da6310aa590>, line 1)",
          "traceback": [
            "\u001b[0;36m  File \u001b[0;32m\"<ipython-input-2-7da6310aa590>\"\u001b[0;36m, line \u001b[0;32m1\u001b[0m\n\u001b[0;31m    first name = \"Abbas\"\u001b[0m\n\u001b[0m          ^\u001b[0m\n\u001b[0;31mSyntaxError\u001b[0m\u001b[0;31m:\u001b[0m invalid syntax\n"
          ]
        }
      ]
    },
    {
      "cell_type": "code",
      "source": [
        "first_name = \"Abbas\"\n",
        "print(first_name)"
      ],
      "metadata": {
        "colab": {
          "base_uri": "https://localhost:8080/"
        },
        "id": "2VHBgYQE7QvH",
        "outputId": "ca6229b6-5541-4453-e60d-0fe7106a67c2"
      },
      "execution_count": null,
      "outputs": [
        {
          "output_type": "stream",
          "name": "stdout",
          "text": [
            "Abbas\n"
          ]
        }
      ]
    },
    {
      "cell_type": "code",
      "source": [
        "7 = \"seven\""
      ],
      "metadata": {
        "colab": {
          "base_uri": "https://localhost:8080/",
          "height": 106
        },
        "id": "op6trqCq7hkC",
        "outputId": "665a278c-6ec5-4a1c-8298-b5f939b490e5"
      },
      "execution_count": null,
      "outputs": [
        {
          "output_type": "error",
          "ename": "SyntaxError",
          "evalue": "cannot assign to literal here. Maybe you meant '==' instead of '='? (<ipython-input-5-fe11597a8051>, line 1)",
          "traceback": [
            "\u001b[0;36m  File \u001b[0;32m\"<ipython-input-5-fe11597a8051>\"\u001b[0;36m, line \u001b[0;32m1\u001b[0m\n\u001b[0;31m    7 = \"seven\"\u001b[0m\n\u001b[0m    ^\u001b[0m\n\u001b[0;31mSyntaxError\u001b[0m\u001b[0;31m:\u001b[0m cannot assign to literal here. Maybe you meant '==' instead of '='?\n"
          ]
        }
      ]
    },
    {
      "cell_type": "markdown",
      "source": [
        "# Datatypes"
      ],
      "metadata": {
        "id": "Yg0ib-hFUgvM"
      }
    },
    {
      "cell_type": "code",
      "source": [
        "age = 23 # int\n",
        "first_name = \"Abbas\" # str\n",
        "last_name = \"Ali\" # str\n",
        "country = 'India' # str\n",
        "phone_number = 7200000000 # int\n",
        "weight = 50.34 # float\n",
        "married = False # bool"
      ],
      "metadata": {
        "id": "cKMZovn98Kjf"
      },
      "execution_count": null,
      "outputs": []
    },
    {
      "cell_type": "code",
      "source": [
        "text = \"Hey, how are you?\"\n",
        "type(text)"
      ],
      "metadata": {
        "colab": {
          "base_uri": "https://localhost:8080/"
        },
        "id": "Js2_trfREyh0",
        "outputId": "db76b677-8135-4f21-9de5-36b807f8faf0"
      },
      "execution_count": null,
      "outputs": [
        {
          "output_type": "execute_result",
          "data": {
            "text/plain": [
              "str"
            ]
          },
          "metadata": {},
          "execution_count": 18
        }
      ]
    },
    {
      "cell_type": "code",
      "source": [
        "print(type(text))"
      ],
      "metadata": {
        "colab": {
          "base_uri": "https://localhost:8080/"
        },
        "id": "WGXTSlR_FSLv",
        "outputId": "c1a29351-1fd6-4f1d-c0ad-c439b454874c"
      },
      "execution_count": null,
      "outputs": [
        {
          "output_type": "stream",
          "name": "stdout",
          "text": [
            "<class 'str'>\n"
          ]
        }
      ]
    },
    {
      "cell_type": "code",
      "source": [
        "number = 123\n",
        "type(number)"
      ],
      "metadata": {
        "colab": {
          "base_uri": "https://localhost:8080/"
        },
        "id": "gS6nE4mmGL6o",
        "outputId": "791a5916-ad02-4f18-9968-f78b3e3f57b3"
      },
      "execution_count": null,
      "outputs": [
        {
          "output_type": "execute_result",
          "data": {
            "text/plain": [
              "int"
            ]
          },
          "metadata": {},
          "execution_count": 12
        }
      ]
    },
    {
      "cell_type": "code",
      "source": [
        "decimal_number = 0.3333\n",
        "type(decimal_number)"
      ],
      "metadata": {
        "colab": {
          "base_uri": "https://localhost:8080/"
        },
        "id": "EreKjr5cD4-s",
        "outputId": "79e4091a-89a5-4278-e2be-7a1e87e1d531"
      },
      "execution_count": null,
      "outputs": [
        {
          "output_type": "execute_result",
          "data": {
            "text/plain": [
              "float"
            ]
          },
          "metadata": {},
          "execution_count": 17
        }
      ]
    },
    {
      "cell_type": "code",
      "source": [
        "boolean = True\n",
        "type(boolean)"
      ],
      "metadata": {
        "colab": {
          "base_uri": "https://localhost:8080/"
        },
        "id": "BdI3Y3AZD6rC",
        "outputId": "01dedcb0-2632-4b43-cf29-3c97518697d8"
      },
      "execution_count": null,
      "outputs": [
        {
          "output_type": "execute_result",
          "data": {
            "text/plain": [
              "bool"
            ]
          },
          "metadata": {},
          "execution_count": 16
        }
      ]
    },
    {
      "cell_type": "markdown",
      "source": [
        "# Operators"
      ],
      "metadata": {
        "id": "_W-elFMIUwK3"
      }
    },
    {
      "cell_type": "markdown",
      "source": [
        "## Arithmetic Operators"
      ],
      "metadata": {
        "id": "pDsWRfaQUzoX"
      }
    },
    {
      "cell_type": "code",
      "source": [
        "4 + 8"
      ],
      "metadata": {
        "colab": {
          "base_uri": "https://localhost:8080/"
        },
        "id": "g0Eq9x7dGn9e",
        "outputId": "25e061c1-005e-459f-ae5c-192d2fd0c6c2"
      },
      "execution_count": null,
      "outputs": [
        {
          "output_type": "execute_result",
          "data": {
            "text/plain": [
              "12"
            ]
          },
          "metadata": {},
          "execution_count": 19
        }
      ]
    },
    {
      "cell_type": "code",
      "source": [
        "num1 = 34\n",
        "num2 = 66\n",
        "print(num1 + num2)"
      ],
      "metadata": {
        "colab": {
          "base_uri": "https://localhost:8080/"
        },
        "id": "o7qyBWDqVVwu",
        "outputId": "d86ad137-6112-47a8-ed87-be0d9b94755a"
      },
      "execution_count": null,
      "outputs": [
        {
          "output_type": "stream",
          "name": "stdout",
          "text": [
            "100\n"
          ]
        }
      ]
    },
    {
      "cell_type": "code",
      "source": [
        "56 - 34"
      ],
      "metadata": {
        "colab": {
          "base_uri": "https://localhost:8080/"
        },
        "id": "xj9LdNTgVGp1",
        "outputId": "459e6ddd-9136-4d3e-8c84-45d488e7ad30"
      },
      "execution_count": null,
      "outputs": [
        {
          "output_type": "execute_result",
          "data": {
            "text/plain": [
              "22"
            ]
          },
          "metadata": {},
          "execution_count": 20
        }
      ]
    },
    {
      "cell_type": "code",
      "source": [
        "56 + 34 - 29"
      ],
      "metadata": {
        "colab": {
          "base_uri": "https://localhost:8080/"
        },
        "id": "Cez7PpzbVI8k",
        "outputId": "68e05e82-8d33-4ade-b74a-9375038cffca"
      },
      "execution_count": null,
      "outputs": [
        {
          "output_type": "execute_result",
          "data": {
            "text/plain": [
              "61"
            ]
          },
          "metadata": {},
          "execution_count": 23
        }
      ]
    },
    {
      "cell_type": "code",
      "source": [
        "num1 = 45\n",
        "num2 = 25\n",
        "print(num1 - num2)"
      ],
      "metadata": {
        "colab": {
          "base_uri": "https://localhost:8080/"
        },
        "id": "J3wUurNMWBrh",
        "outputId": "43e98f27-da0d-40a8-bb0f-3fc464689029"
      },
      "execution_count": null,
      "outputs": [
        {
          "output_type": "stream",
          "name": "stdout",
          "text": [
            "20\n"
          ]
        }
      ]
    },
    {
      "cell_type": "code",
      "source": [
        "262 * 3"
      ],
      "metadata": {
        "colab": {
          "base_uri": "https://localhost:8080/"
        },
        "id": "bDd1PyFCWa-Y",
        "outputId": "959d39fd-f859-43a2-afd5-35259aa21aaa"
      },
      "execution_count": null,
      "outputs": [
        {
          "output_type": "execute_result",
          "data": {
            "text/plain": [
              "786"
            ]
          },
          "metadata": {},
          "execution_count": 25
        }
      ]
    },
    {
      "cell_type": "code",
      "source": [
        "45 * 3 + 35 - 23"
      ],
      "metadata": {
        "colab": {
          "base_uri": "https://localhost:8080/"
        },
        "id": "97znQjWiXJTW",
        "outputId": "22d35ee4-bf07-4413-cfd3-c35cd86742a9"
      },
      "execution_count": null,
      "outputs": [
        {
          "output_type": "execute_result",
          "data": {
            "text/plain": [
              "147"
            ]
          },
          "metadata": {},
          "execution_count": 26
        }
      ]
    },
    {
      "cell_type": "code",
      "source": [
        "num1 = 467\n",
        "num2 = 345\n",
        "print(num1 * num2)"
      ],
      "metadata": {
        "colab": {
          "base_uri": "https://localhost:8080/"
        },
        "id": "qsxf9hRgXQMw",
        "outputId": "fa77dc5a-3658-495a-8f20-01ecd4051ad9"
      },
      "execution_count": null,
      "outputs": [
        {
          "output_type": "stream",
          "name": "stdout",
          "text": [
            "161115\n"
          ]
        }
      ]
    },
    {
      "cell_type": "code",
      "source": [
        "100 / 4"
      ],
      "metadata": {
        "colab": {
          "base_uri": "https://localhost:8080/"
        },
        "id": "xyEP6WmRXrVI",
        "outputId": "a9f48898-a38e-47bb-e72d-da50d15497f1"
      },
      "execution_count": null,
      "outputs": [
        {
          "output_type": "execute_result",
          "data": {
            "text/plain": [
              "25.0"
            ]
          },
          "metadata": {},
          "execution_count": 29
        }
      ]
    },
    {
      "cell_type": "code",
      "source": [
        "100 // 4"
      ],
      "metadata": {
        "colab": {
          "base_uri": "https://localhost:8080/"
        },
        "id": "n9JlUFyIYJ6v",
        "outputId": "2b6e7d8f-e544-47ec-fb7d-24168569ce3e"
      },
      "execution_count": null,
      "outputs": [
        {
          "output_type": "execute_result",
          "data": {
            "text/plain": [
              "25"
            ]
          },
          "metadata": {},
          "execution_count": 30
        }
      ]
    },
    {
      "cell_type": "code",
      "source": [
        "num1 = 78\n",
        "num2 = 8\n",
        "print(num1 / num2)"
      ],
      "metadata": {
        "colab": {
          "base_uri": "https://localhost:8080/"
        },
        "id": "xSywiQaPYasS",
        "outputId": "628ed275-4111-45dd-de2d-a8f4bf130d05"
      },
      "execution_count": null,
      "outputs": [
        {
          "output_type": "stream",
          "name": "stdout",
          "text": [
            "9.75\n"
          ]
        }
      ]
    },
    {
      "cell_type": "code",
      "source": [
        "9 % 3"
      ],
      "metadata": {
        "colab": {
          "base_uri": "https://localhost:8080/"
        },
        "id": "Mk5zRfWAZhf_",
        "outputId": "9f7dfcac-2c50-48a8-8d87-71678b41088b"
      },
      "execution_count": null,
      "outputs": [
        {
          "output_type": "execute_result",
          "data": {
            "text/plain": [
              "0"
            ]
          },
          "metadata": {},
          "execution_count": 32
        }
      ]
    },
    {
      "cell_type": "code",
      "source": [
        "45 % 20"
      ],
      "metadata": {
        "colab": {
          "base_uri": "https://localhost:8080/"
        },
        "id": "lLfzTmPBaPC-",
        "outputId": "da418303-cc54-46d2-de21-875d49a7478a"
      },
      "execution_count": null,
      "outputs": [
        {
          "output_type": "execute_result",
          "data": {
            "text/plain": [
              "5"
            ]
          },
          "metadata": {},
          "execution_count": 33
        }
      ]
    },
    {
      "cell_type": "code",
      "source": [
        "3**2"
      ],
      "metadata": {
        "colab": {
          "base_uri": "https://localhost:8080/"
        },
        "id": "VlYInpvTaefM",
        "outputId": "f3d64828-f8ff-4393-abc3-5298e728ee55"
      },
      "execution_count": null,
      "outputs": [
        {
          "output_type": "execute_result",
          "data": {
            "text/plain": [
              "9"
            ]
          },
          "metadata": {},
          "execution_count": 35
        }
      ]
    },
    {
      "cell_type": "code",
      "source": [
        "65**12"
      ],
      "metadata": {
        "colab": {
          "base_uri": "https://localhost:8080/"
        },
        "id": "qXl9ZMsfczuq",
        "outputId": "fdf72b2b-f8da-4446-9d11-30911b7d65a7"
      },
      "execution_count": null,
      "outputs": [
        {
          "output_type": "execute_result",
          "data": {
            "text/plain": [
              "5688009063105712890625"
            ]
          },
          "metadata": {},
          "execution_count": 36
        }
      ]
    },
    {
      "cell_type": "code",
      "source": [
        "num = 89\n",
        "power = 6\n",
        "print(num**power)"
      ],
      "metadata": {
        "colab": {
          "base_uri": "https://localhost:8080/"
        },
        "id": "MO_efvMgdFhr",
        "outputId": "19e17b9a-63a6-4d59-a615-dfc49c5eb999"
      },
      "execution_count": null,
      "outputs": [
        {
          "output_type": "stream",
          "name": "stdout",
          "text": [
            "496981290961\n"
          ]
        }
      ]
    },
    {
      "cell_type": "markdown",
      "source": [
        "## Comparison Operators"
      ],
      "metadata": {
        "id": "DqNlFuSIU58t"
      }
    },
    {
      "cell_type": "code",
      "source": [
        "45 == 45"
      ],
      "metadata": {
        "colab": {
          "base_uri": "https://localhost:8080/"
        },
        "id": "zBpTfTAsdObe",
        "outputId": "58322ae8-b0ab-4d52-d43d-a80f9cfd38c3"
      },
      "execution_count": null,
      "outputs": [
        {
          "output_type": "execute_result",
          "data": {
            "text/plain": [
              "True"
            ]
          },
          "metadata": {},
          "execution_count": 39
        }
      ]
    },
    {
      "cell_type": "code",
      "source": [
        "56 == 90"
      ],
      "metadata": {
        "colab": {
          "base_uri": "https://localhost:8080/"
        },
        "id": "Xj6UvoBVeolQ",
        "outputId": "c598eed2-4cc6-4737-882f-973063ca7111"
      },
      "execution_count": null,
      "outputs": [
        {
          "output_type": "execute_result",
          "data": {
            "text/plain": [
              "False"
            ]
          },
          "metadata": {},
          "execution_count": 41
        }
      ]
    },
    {
      "cell_type": "code",
      "source": [
        "\"abbas\" == \"abbas\""
      ],
      "metadata": {
        "colab": {
          "base_uri": "https://localhost:8080/"
        },
        "id": "T55l2Ep4fBIU",
        "outputId": "a1fc73f5-8c86-41a5-ac08-5ad950a106df"
      },
      "execution_count": null,
      "outputs": [
        {
          "output_type": "execute_result",
          "data": {
            "text/plain": [
              "True"
            ]
          },
          "metadata": {},
          "execution_count": 43
        }
      ]
    },
    {
      "cell_type": "code",
      "source": [
        "\"ali\" == 'ALI'"
      ],
      "metadata": {
        "colab": {
          "base_uri": "https://localhost:8080/"
        },
        "id": "FeJR7G5JftCc",
        "outputId": "c1eeab1e-8e45-4dc1-bce1-85f7fba32321"
      },
      "execution_count": null,
      "outputs": [
        {
          "output_type": "execute_result",
          "data": {
            "text/plain": [
              "False"
            ]
          },
          "metadata": {},
          "execution_count": 45
        }
      ]
    },
    {
      "cell_type": "code",
      "source": [
        "34 != 35"
      ],
      "metadata": {
        "colab": {
          "base_uri": "https://localhost:8080/"
        },
        "id": "U-8hEP5Tf8kj",
        "outputId": "916c8226-acf8-4d4e-cfd2-76d932bf69dd"
      },
      "execution_count": null,
      "outputs": [
        {
          "output_type": "execute_result",
          "data": {
            "text/plain": [
              "True"
            ]
          },
          "metadata": {},
          "execution_count": 46
        }
      ]
    },
    {
      "cell_type": "code",
      "source": [
        "765 != 765"
      ],
      "metadata": {
        "colab": {
          "base_uri": "https://localhost:8080/"
        },
        "id": "9WYWh-vOg1LB",
        "outputId": "30479011-8ba8-4388-d147-9014d49cf7fb"
      },
      "execution_count": null,
      "outputs": [
        {
          "output_type": "execute_result",
          "data": {
            "text/plain": [
              "False"
            ]
          },
          "metadata": {},
          "execution_count": 47
        }
      ]
    },
    {
      "cell_type": "code",
      "source": [
        "'PYTHON' != 'python'"
      ],
      "metadata": {
        "colab": {
          "base_uri": "https://localhost:8080/"
        },
        "id": "6zB_0blthKvY",
        "outputId": "520d7697-4777-4cee-ac37-3e9f879eb6cc"
      },
      "execution_count": null,
      "outputs": [
        {
          "output_type": "execute_result",
          "data": {
            "text/plain": [
              "True"
            ]
          },
          "metadata": {},
          "execution_count": 48
        }
      ]
    },
    {
      "cell_type": "code",
      "source": [
        "21 < 56"
      ],
      "metadata": {
        "colab": {
          "base_uri": "https://localhost:8080/"
        },
        "id": "IlLTE6AYhUGg",
        "outputId": "b6db5bbc-3b08-474f-b41c-bb319d2c62a0"
      },
      "execution_count": null,
      "outputs": [
        {
          "output_type": "execute_result",
          "data": {
            "text/plain": [
              "True"
            ]
          },
          "metadata": {},
          "execution_count": 50
        }
      ]
    },
    {
      "cell_type": "code",
      "source": [
        "num1 = 66\n",
        "num2 = 99\n",
        "print(num1 < num2)"
      ],
      "metadata": {
        "colab": {
          "base_uri": "https://localhost:8080/"
        },
        "id": "6lX8AhQ-h0zM",
        "outputId": "398b2793-3311-4712-eae0-4fffc77894cb"
      },
      "execution_count": null,
      "outputs": [
        {
          "output_type": "stream",
          "name": "stdout",
          "text": [
            "True\n"
          ]
        }
      ]
    },
    {
      "cell_type": "code",
      "source": [
        "97 > 89"
      ],
      "metadata": {
        "colab": {
          "base_uri": "https://localhost:8080/"
        },
        "id": "QUpT_MOWiKS4",
        "outputId": "1532e660-c479-4ff9-b858-b28a23b199f3"
      },
      "execution_count": null,
      "outputs": [
        {
          "output_type": "execute_result",
          "data": {
            "text/plain": [
              "True"
            ]
          },
          "metadata": {},
          "execution_count": 54
        }
      ]
    },
    {
      "cell_type": "code",
      "source": [
        "67 <= 85"
      ],
      "metadata": {
        "colab": {
          "base_uri": "https://localhost:8080/"
        },
        "id": "wKxWowVRiczC",
        "outputId": "90af5252-d1f4-4a2e-87bb-999f943bfc1b"
      },
      "execution_count": null,
      "outputs": [
        {
          "output_type": "execute_result",
          "data": {
            "text/plain": [
              "True"
            ]
          },
          "metadata": {},
          "execution_count": 56
        }
      ]
    },
    {
      "cell_type": "code",
      "source": [
        "100 >= 99"
      ],
      "metadata": {
        "colab": {
          "base_uri": "https://localhost:8080/"
        },
        "id": "O4O6p_qAjV9Q",
        "outputId": "9674cf50-5012-4ba5-fd78-df9468ece9f8"
      },
      "execution_count": null,
      "outputs": [
        {
          "output_type": "execute_result",
          "data": {
            "text/plain": [
              "True"
            ]
          },
          "metadata": {},
          "execution_count": 58
        }
      ]
    },
    {
      "cell_type": "markdown",
      "source": [
        "## Assignment Operators"
      ],
      "metadata": {
        "id": "5dnNlZSRVULp"
      }
    },
    {
      "cell_type": "code",
      "source": [
        "x = 7\n",
        "print(x)\n",
        "\n",
        "x += 3\n",
        "\n",
        "print(x)"
      ],
      "metadata": {
        "colab": {
          "base_uri": "https://localhost:8080/"
        },
        "id": "FuX4HYt7lksL",
        "outputId": "6b55d676-9c46-4334-8331-71484b19611a"
      },
      "execution_count": null,
      "outputs": [
        {
          "output_type": "stream",
          "name": "stdout",
          "text": [
            "7\n",
            "10\n"
          ]
        }
      ]
    },
    {
      "cell_type": "code",
      "source": [
        "x = 45\n",
        "print(x)\n",
        "\n",
        "x -= 35\n",
        "print(x)"
      ],
      "metadata": {
        "colab": {
          "base_uri": "https://localhost:8080/"
        },
        "id": "oCZQX3u5mWTH",
        "outputId": "61a987a9-8789-4d01-adbe-11d4ade9a9f9"
      },
      "execution_count": null,
      "outputs": [
        {
          "output_type": "stream",
          "name": "stdout",
          "text": [
            "45\n",
            "10\n"
          ]
        }
      ]
    },
    {
      "cell_type": "code",
      "source": [
        "x = 4\n",
        "print(x)\n",
        "\n",
        "x *= 20\n",
        "print(x)"
      ],
      "metadata": {
        "colab": {
          "base_uri": "https://localhost:8080/"
        },
        "id": "hIRSFqeeoAq8",
        "outputId": "30d82ed9-0159-4f51-c794-b88d2138e24a"
      },
      "execution_count": null,
      "outputs": [
        {
          "output_type": "stream",
          "name": "stdout",
          "text": [
            "4\n",
            "80\n"
          ]
        }
      ]
    },
    {
      "cell_type": "code",
      "source": [
        "x = 50\n",
        "print(x)\n",
        "\n",
        "x /= 20\n",
        "print(x)"
      ],
      "metadata": {
        "colab": {
          "base_uri": "https://localhost:8080/"
        },
        "id": "jZegLxUooR9c",
        "outputId": "aa5dea5c-8df5-407c-e371-3cb9faa893c5"
      },
      "execution_count": null,
      "outputs": [
        {
          "output_type": "stream",
          "name": "stdout",
          "text": [
            "50\n",
            "2.5\n"
          ]
        }
      ]
    },
    {
      "cell_type": "code",
      "source": [
        "x = 50\n",
        "print(x)\n",
        "\n",
        "x //= 20\n",
        "print(x)"
      ],
      "metadata": {
        "colab": {
          "base_uri": "https://localhost:8080/"
        },
        "id": "MMh7CrazpIx0",
        "outputId": "799f0204-1e64-40f7-c49f-1a2805cab441"
      },
      "execution_count": null,
      "outputs": [
        {
          "output_type": "stream",
          "name": "stdout",
          "text": [
            "50\n",
            "2\n"
          ]
        }
      ]
    },
    {
      "cell_type": "code",
      "source": [
        "x = 50\n",
        "print(x)\n",
        "\n",
        "x %= 20\n",
        "print(x)"
      ],
      "metadata": {
        "colab": {
          "base_uri": "https://localhost:8080/"
        },
        "id": "HDbPEA2HpbB2",
        "outputId": "d45938dc-6bcf-415b-a211-678c4dfb038d"
      },
      "execution_count": null,
      "outputs": [
        {
          "output_type": "stream",
          "name": "stdout",
          "text": [
            "50\n",
            "10\n"
          ]
        }
      ]
    },
    {
      "cell_type": "code",
      "source": [
        "x = 20\n",
        "print(x)\n",
        "\n",
        "x **= 2\n",
        "print(x)"
      ],
      "metadata": {
        "colab": {
          "base_uri": "https://localhost:8080/"
        },
        "id": "hA1mePn0pubY",
        "outputId": "4bf77411-2327-41a1-af35-3705374bc796"
      },
      "execution_count": null,
      "outputs": [
        {
          "output_type": "stream",
          "name": "stdout",
          "text": [
            "20\n",
            "400\n"
          ]
        }
      ]
    },
    {
      "cell_type": "markdown",
      "source": [
        "## Logical Operators"
      ],
      "metadata": {
        "id": "KjSRGaxLVZMG"
      }
    },
    {
      "cell_type": "code",
      "source": [
        "x = 92\n",
        "\n",
        "x < 100 and x > 90"
      ],
      "metadata": {
        "colab": {
          "base_uri": "https://localhost:8080/"
        },
        "id": "K_TPI8yZp-t-",
        "outputId": "b52ff00e-a1ab-4c46-d05d-166e2c75febc"
      },
      "execution_count": null,
      "outputs": [
        {
          "output_type": "execute_result",
          "data": {
            "text/plain": [
              "True"
            ]
          },
          "metadata": {},
          "execution_count": 72
        }
      ]
    },
    {
      "cell_type": "code",
      "source": [
        "x = 89\n",
        "\n",
        "x < 100 and x > 90"
      ],
      "metadata": {
        "colab": {
          "base_uri": "https://localhost:8080/"
        },
        "id": "FVOeb8MosqFu",
        "outputId": "560870f7-bcec-4f28-bd01-4af8fb410383"
      },
      "execution_count": null,
      "outputs": [
        {
          "output_type": "execute_result",
          "data": {
            "text/plain": [
              "False"
            ]
          },
          "metadata": {},
          "execution_count": 73
        }
      ]
    },
    {
      "cell_type": "code",
      "source": [
        "x = 89\n",
        "\n",
        "x < 100 or x > 90"
      ],
      "metadata": {
        "colab": {
          "base_uri": "https://localhost:8080/"
        },
        "id": "gP1cTNTUuI4u",
        "outputId": "4056af36-06e7-45b9-9eb5-98ef0f3b76cf"
      },
      "execution_count": null,
      "outputs": [
        {
          "output_type": "execute_result",
          "data": {
            "text/plain": [
              "True"
            ]
          },
          "metadata": {},
          "execution_count": 74
        }
      ]
    },
    {
      "cell_type": "code",
      "source": [
        "x = 89\n",
        "\n",
        "not x < 100 or x > 90"
      ],
      "metadata": {
        "colab": {
          "base_uri": "https://localhost:8080/"
        },
        "id": "NIiBxVGHurfR",
        "outputId": "a318f3c0-cc02-47a8-ebab-04c75164e532"
      },
      "execution_count": null,
      "outputs": [
        {
          "output_type": "execute_result",
          "data": {
            "text/plain": [
              "False"
            ]
          },
          "metadata": {},
          "execution_count": 75
        }
      ]
    },
    {
      "cell_type": "code",
      "source": [
        "x = 89\n",
        "\n",
        "not x < 100 and x > 90"
      ],
      "metadata": {
        "colab": {
          "base_uri": "https://localhost:8080/"
        },
        "id": "7ZB2ZJUFuyKf",
        "outputId": "3e84ba11-c12a-45dd-adb6-e6dfa2f168de"
      },
      "execution_count": null,
      "outputs": [
        {
          "output_type": "execute_result",
          "data": {
            "text/plain": [
              "False"
            ]
          },
          "metadata": {},
          "execution_count": 76
        }
      ]
    },
    {
      "cell_type": "code",
      "source": [
        "x = 89\n",
        "\n",
        "not (x < 100 and x > 90)"
      ],
      "metadata": {
        "colab": {
          "base_uri": "https://localhost:8080/"
        },
        "id": "AD9XiALivVPY",
        "outputId": "540b5de5-2114-46fe-aa91-c66d8419ba6d"
      },
      "execution_count": null,
      "outputs": [
        {
          "output_type": "execute_result",
          "data": {
            "text/plain": [
              "True"
            ]
          },
          "metadata": {},
          "execution_count": 82
        }
      ]
    },
    {
      "cell_type": "markdown",
      "source": [
        "## Identity Operators"
      ],
      "metadata": {
        "id": "qrwmXiE4VhaV"
      }
    },
    {
      "cell_type": "code",
      "source": [
        "a = 90\n",
        "b = 90\n",
        "c = a\n",
        "\n",
        "print(id(a))\n",
        "print(id(b))\n",
        "print(id(c))"
      ],
      "metadata": {
        "colab": {
          "base_uri": "https://localhost:8080/"
        },
        "id": "2Rl7g27Evg2g",
        "outputId": "f51d89fc-6689-404f-8d63-a817afcad86c"
      },
      "execution_count": null,
      "outputs": [
        {
          "output_type": "stream",
          "name": "stdout",
          "text": [
            "134294240873488\n",
            "134294240873456\n",
            "134294240873488\n"
          ]
        }
      ]
    },
    {
      "cell_type": "code",
      "source": [
        "a is b"
      ],
      "metadata": {
        "colab": {
          "base_uri": "https://localhost:8080/"
        },
        "id": "qng0L6ocyWNZ",
        "outputId": "0477767c-fdd7-4b4a-f15d-04d85fcf3228"
      },
      "execution_count": null,
      "outputs": [
        {
          "output_type": "execute_result",
          "data": {
            "text/plain": [
              "False"
            ]
          },
          "metadata": {},
          "execution_count": 85
        }
      ]
    },
    {
      "cell_type": "code",
      "source": [
        "a is c"
      ],
      "metadata": {
        "colab": {
          "base_uri": "https://localhost:8080/"
        },
        "id": "_U_VqAGi0Aen",
        "outputId": "53029508-772a-4a15-81ae-313bb41cad1c"
      },
      "execution_count": null,
      "outputs": [
        {
          "output_type": "execute_result",
          "data": {
            "text/plain": [
              "True"
            ]
          },
          "metadata": {},
          "execution_count": 86
        }
      ]
    },
    {
      "cell_type": "code",
      "source": [
        "a is not b"
      ],
      "metadata": {
        "colab": {
          "base_uri": "https://localhost:8080/"
        },
        "id": "dg7oFrNE0CAs",
        "outputId": "cef83b1d-aba6-46d9-be22-30798a55c9ee"
      },
      "execution_count": null,
      "outputs": [
        {
          "output_type": "execute_result",
          "data": {
            "text/plain": [
              "True"
            ]
          },
          "metadata": {},
          "execution_count": 87
        }
      ]
    },
    {
      "cell_type": "code",
      "source": [
        "a is not c"
      ],
      "metadata": {
        "colab": {
          "base_uri": "https://localhost:8080/"
        },
        "id": "NXjyXRVX05oS",
        "outputId": "62cfa05e-1356-405c-9a67-50d25deff28e"
      },
      "execution_count": null,
      "outputs": [
        {
          "output_type": "execute_result",
          "data": {
            "text/plain": [
              "False"
            ]
          },
          "metadata": {},
          "execution_count": 88
        }
      ]
    },
    {
      "cell_type": "markdown",
      "source": [
        "## Membership Operators"
      ],
      "metadata": {
        "id": "ORBAIQNeVnVJ"
      }
    },
    {
      "cell_type": "code",
      "source": [
        "'a' in 'abbas'"
      ],
      "metadata": {
        "colab": {
          "base_uri": "https://localhost:8080/"
        },
        "id": "AOalnZ3P06VZ",
        "outputId": "1873373f-4c71-4b2f-cab3-d81da921f6f0"
      },
      "execution_count": null,
      "outputs": [
        {
          "output_type": "execute_result",
          "data": {
            "text/plain": [
              "True"
            ]
          },
          "metadata": {},
          "execution_count": 89
        }
      ]
    },
    {
      "cell_type": "code",
      "source": [
        "\"z\" in \"abbas\""
      ],
      "metadata": {
        "colab": {
          "base_uri": "https://localhost:8080/"
        },
        "id": "Uk8Czgrr2g2L",
        "outputId": "20781d99-c2bb-4fc1-c6b3-af76f7f44590"
      },
      "execution_count": null,
      "outputs": [
        {
          "output_type": "execute_result",
          "data": {
            "text/plain": [
              "False"
            ]
          },
          "metadata": {},
          "execution_count": 90
        }
      ]
    },
    {
      "cell_type": "code",
      "source": [
        "\"z\" not in \"abbas\""
      ],
      "metadata": {
        "colab": {
          "base_uri": "https://localhost:8080/"
        },
        "id": "pdB7awJz2xRq",
        "outputId": "17807e8d-84cb-4d00-b7f7-12f146b66424"
      },
      "execution_count": null,
      "outputs": [
        {
          "output_type": "execute_result",
          "data": {
            "text/plain": [
              "True"
            ]
          },
          "metadata": {},
          "execution_count": 91
        }
      ]
    },
    {
      "cell_type": "markdown",
      "source": [
        "# Built-in Data Structure"
      ],
      "metadata": {
        "id": "Idr0-bIaVrGS"
      }
    },
    {
      "cell_type": "markdown",
      "source": [
        "## List and its Methods"
      ],
      "metadata": {
        "id": "0K1L0bEQV5Eq"
      }
    },
    {
      "cell_type": "code",
      "source": [
        "l1 = [1,2,3,4,5]\n",
        "l2 = ['a', 'b', 'c', 'd', 'e']\n",
        "l3 = [1, 'b', 'apple', 4.5, True, 99]"
      ],
      "metadata": {
        "id": "OTq4Wzzg3KPE"
      },
      "execution_count": null,
      "outputs": []
    },
    {
      "cell_type": "code",
      "source": [
        "l4 = [1, 2, 4, 4, 5, 6, 'a', 5.6]"
      ],
      "metadata": {
        "id": "oHMaYfJ-E9F5"
      },
      "execution_count": null,
      "outputs": []
    },
    {
      "cell_type": "code",
      "source": [
        "l4[0]"
      ],
      "metadata": {
        "colab": {
          "base_uri": "https://localhost:8080/"
        },
        "id": "8A7TBaFFOEax",
        "outputId": "3c6d433d-cd87-498e-e949-6aca5fc47eb7"
      },
      "execution_count": null,
      "outputs": [
        {
          "output_type": "execute_result",
          "data": {
            "text/plain": [
              "1"
            ]
          },
          "metadata": {},
          "execution_count": 99
        }
      ]
    },
    {
      "cell_type": "code",
      "source": [
        "l4[6]"
      ],
      "metadata": {
        "colab": {
          "base_uri": "https://localhost:8080/",
          "height": 36
        },
        "id": "wTP0WqShOSwK",
        "outputId": "c78af242-5139-4f06-e425-101af977400b"
      },
      "execution_count": null,
      "outputs": [
        {
          "output_type": "execute_result",
          "data": {
            "text/plain": [
              "'a'"
            ],
            "application/vnd.google.colaboratory.intrinsic+json": {
              "type": "string"
            }
          },
          "metadata": {},
          "execution_count": 100
        }
      ]
    },
    {
      "cell_type": "code",
      "source": [
        "lst1 = ['aeroplane', 'boat', 'car', 'bike']\n",
        "print(lst1)\n",
        "\n",
        "lst1.append('helicopter')\n",
        "print(lst1)"
      ],
      "metadata": {
        "colab": {
          "base_uri": "https://localhost:8080/"
        },
        "id": "0FX5D9zRF0h0",
        "outputId": "3a0988a8-10f8-4968-9c38-f9dfe05ad66f"
      },
      "execution_count": null,
      "outputs": [
        {
          "output_type": "stream",
          "name": "stdout",
          "text": [
            "['aeroplane', 'boat', 'car', 'bike']\n",
            "['aeroplane', 'boat', 'car', 'bike', 'helicopter']\n"
          ]
        }
      ]
    },
    {
      "cell_type": "code",
      "source": [
        "lst2 = ['a', 'b', 'c', 'd', 'e']\n",
        "print(lst2)\n",
        "\n",
        "lst2.pop()\n",
        "print(lst2)"
      ],
      "metadata": {
        "colab": {
          "base_uri": "https://localhost:8080/"
        },
        "id": "5gP2mxfFL_cy",
        "outputId": "4016c48e-d997-483b-d26a-a4f7cf318860"
      },
      "execution_count": null,
      "outputs": [
        {
          "output_type": "stream",
          "name": "stdout",
          "text": [
            "['a', 'b', 'c', 'd', 'e']\n",
            "['a', 'b', 'c', 'd']\n"
          ]
        }
      ]
    },
    {
      "cell_type": "code",
      "source": [
        "lst2.pop(1)\n",
        "print(lst2)"
      ],
      "metadata": {
        "colab": {
          "base_uri": "https://localhost:8080/"
        },
        "id": "zcRHKUcDRbad",
        "outputId": "452d07d3-a0bd-42f9-db4b-fcc13b69a99b"
      },
      "execution_count": null,
      "outputs": [
        {
          "output_type": "stream",
          "name": "stdout",
          "text": [
            "['a', 'c', 'd']\n"
          ]
        }
      ]
    },
    {
      "cell_type": "code",
      "source": [
        "cars = ['bmw', 'audi', 'toyota', 'benz']\n",
        "print(cars)\n",
        "\n",
        "cars.remove('toyota')\n",
        "print(cars)"
      ],
      "metadata": {
        "colab": {
          "base_uri": "https://localhost:8080/"
        },
        "id": "waA9eLL6SDug",
        "outputId": "af8e35ed-a641-430a-ec31-c371e9bddc16"
      },
      "execution_count": null,
      "outputs": [
        {
          "output_type": "stream",
          "name": "stdout",
          "text": [
            "['bmw', 'audi', 'toyota', 'benz']\n",
            "['bmw', 'audi', 'benz']\n"
          ]
        }
      ]
    },
    {
      "cell_type": "code",
      "source": [
        "cars = ['bmw', 'audi', 'mclaren', 'benz', 'royce']\n",
        "print(cars)\n",
        "\n",
        "cars.insert(2, 'tesla')\n",
        "print(cars)"
      ],
      "metadata": {
        "colab": {
          "base_uri": "https://localhost:8080/"
        },
        "id": "wXbctG8lTSWB",
        "outputId": "c050c7ab-2559-4df3-a1de-27d2b62757b8"
      },
      "execution_count": null,
      "outputs": [
        {
          "output_type": "stream",
          "name": "stdout",
          "text": [
            "['bmw', 'audi', 'mclaren', 'benz', 'royce']\n",
            "['bmw', 'audi', 'tesla', 'mclaren', 'benz', 'royce']\n"
          ]
        }
      ]
    },
    {
      "cell_type": "code",
      "source": [
        "cars[3] = 'lambo'\n",
        "print(cars)"
      ],
      "metadata": {
        "colab": {
          "base_uri": "https://localhost:8080/"
        },
        "id": "_Vd8L1ZAU2Wj",
        "outputId": "3ae72563-0f13-409c-eb6d-acca11662ba7"
      },
      "execution_count": null,
      "outputs": [
        {
          "output_type": "stream",
          "name": "stdout",
          "text": [
            "['bmw', 'audi', 'tesla', 'lambo', 'benz', 'royce']\n"
          ]
        }
      ]
    },
    {
      "cell_type": "code",
      "source": [
        "cars.sort()\n",
        "print(cars)"
      ],
      "metadata": {
        "colab": {
          "base_uri": "https://localhost:8080/"
        },
        "id": "mWTuQzBvVhDC",
        "outputId": "3f19ccf5-ae42-4187-bbc5-c5a5f88ac379"
      },
      "execution_count": null,
      "outputs": [
        {
          "output_type": "stream",
          "name": "stdout",
          "text": [
            "['audi', 'benz', 'bmw', 'lambo', 'royce', 'tesla']\n"
          ]
        }
      ]
    },
    {
      "cell_type": "code",
      "source": [
        "numbers = [56, 34, 87, 12, 43, 23, 35, 90]\n",
        "numbers.sort()\n",
        "print(numbers)\n",
        "\n",
        "numbers.sort(reverse=True)\n",
        "print(numbers)"
      ],
      "metadata": {
        "colab": {
          "base_uri": "https://localhost:8080/"
        },
        "id": "eHvth2XsW30J",
        "outputId": "8c187fb7-2d30-45d8-db02-8429af151285"
      },
      "execution_count": null,
      "outputs": [
        {
          "output_type": "stream",
          "name": "stdout",
          "text": [
            "[12, 23, 34, 35, 43, 56, 87, 90]\n",
            "[90, 87, 56, 43, 35, 34, 23, 12]\n"
          ]
        }
      ]
    },
    {
      "cell_type": "code",
      "source": [
        "avengers = ['iron-man', 'captain-america', 'hulk', 'thor', 'doctor-strange', 'iron-man', 'iron-man', 'thor']\n",
        "avengers.count('iron-man')"
      ],
      "metadata": {
        "colab": {
          "base_uri": "https://localhost:8080/"
        },
        "id": "toEzx2SKXRTJ",
        "outputId": "33b7b011-5a15-4d0b-c4fb-50bf47439fbc"
      },
      "execution_count": null,
      "outputs": [
        {
          "output_type": "execute_result",
          "data": {
            "text/plain": [
              "3"
            ]
          },
          "metadata": {},
          "execution_count": 8
        }
      ]
    },
    {
      "cell_type": "code",
      "source": [
        "avengers.count('thor')"
      ],
      "metadata": {
        "colab": {
          "base_uri": "https://localhost:8080/"
        },
        "id": "vz_ZVJioZMPc",
        "outputId": "1fafc3e0-ea4f-4e5c-c42a-8d648c9e3d61"
      },
      "execution_count": null,
      "outputs": [
        {
          "output_type": "execute_result",
          "data": {
            "text/plain": [
              "2"
            ]
          },
          "metadata": {},
          "execution_count": 9
        }
      ]
    },
    {
      "cell_type": "code",
      "source": [
        "avengers.index('hulk')"
      ],
      "metadata": {
        "colab": {
          "base_uri": "https://localhost:8080/"
        },
        "id": "Zcdgl-ZLZhDH",
        "outputId": "4ee01f5b-596b-40d5-862d-53b662941fd9"
      },
      "execution_count": null,
      "outputs": [
        {
          "output_type": "execute_result",
          "data": {
            "text/plain": [
              "2"
            ]
          },
          "metadata": {},
          "execution_count": 10
        }
      ]
    },
    {
      "cell_type": "code",
      "source": [
        "avengers.index('doctor-strange')"
      ],
      "metadata": {
        "colab": {
          "base_uri": "https://localhost:8080/"
        },
        "id": "l_jL3-PLaYjr",
        "outputId": "e910456a-78f4-43f9-8c6d-827cc827f4e5"
      },
      "execution_count": null,
      "outputs": [
        {
          "output_type": "execute_result",
          "data": {
            "text/plain": [
              "4"
            ]
          },
          "metadata": {},
          "execution_count": 11
        }
      ]
    },
    {
      "cell_type": "code",
      "source": [
        "abcd = ['a', 'b', 'c', 'd', 'e', 'f']\n",
        "abcd_copy = abcd.copy()"
      ],
      "metadata": {
        "id": "EUCR5wOVavi-"
      },
      "execution_count": null,
      "outputs": []
    },
    {
      "cell_type": "code",
      "source": [
        "print(abcd_copy)"
      ],
      "metadata": {
        "colab": {
          "base_uri": "https://localhost:8080/"
        },
        "id": "JcIrlFhmb4Qw",
        "outputId": "7f66f3bb-ad59-48a0-ad05-378b498804e0"
      },
      "execution_count": null,
      "outputs": [
        {
          "output_type": "stream",
          "name": "stdout",
          "text": [
            "['a', 'b', 'c', 'd', 'e', 'f']\n"
          ]
        }
      ]
    },
    {
      "cell_type": "code",
      "source": [
        "print(abcd.reverse())"
      ],
      "metadata": {
        "colab": {
          "base_uri": "https://localhost:8080/"
        },
        "id": "jCPDQja2cA6q",
        "outputId": "e110a10f-042c-4edb-bda3-39cc46c6c92b"
      },
      "execution_count": null,
      "outputs": [
        {
          "output_type": "stream",
          "name": "stdout",
          "text": [
            "None\n"
          ]
        }
      ]
    },
    {
      "cell_type": "code",
      "source": [
        "abcd.clear()\n",
        "print(abcd)"
      ],
      "metadata": {
        "colab": {
          "base_uri": "https://localhost:8080/"
        },
        "id": "TGEVjLOsc5vy",
        "outputId": "f5ee51ab-cced-456a-da77-5785a1cfbe9d"
      },
      "execution_count": null,
      "outputs": [
        {
          "output_type": "stream",
          "name": "stdout",
          "text": [
            "[]\n"
          ]
        }
      ]
    },
    {
      "cell_type": "markdown",
      "source": [
        "## Tuple and its Methods"
      ],
      "metadata": {
        "id": "mCeDK8q9V-WN"
      }
    },
    {
      "cell_type": "code",
      "source": [
        "tup1 = ('onion', 'tomato', 'carrot', 'beetroot')"
      ],
      "metadata": {
        "id": "a3wY2ltpdUO3"
      },
      "execution_count": null,
      "outputs": []
    },
    {
      "cell_type": "code",
      "source": [
        "tup1[2]"
      ],
      "metadata": {
        "colab": {
          "base_uri": "https://localhost:8080/",
          "height": 36
        },
        "id": "96EaxicoI7ou",
        "outputId": "70ee5eaa-0520-4788-90ef-962e2f1dcbce"
      },
      "execution_count": null,
      "outputs": [
        {
          "output_type": "execute_result",
          "data": {
            "text/plain": [
              "'carrot'"
            ],
            "application/vnd.google.colaboratory.intrinsic+json": {
              "type": "string"
            }
          },
          "metadata": {},
          "execution_count": 2
        }
      ]
    },
    {
      "cell_type": "code",
      "source": [
        "print(tup1)\n",
        "lst1 = list(tup1)\n",
        "lst1.append('potato')\n",
        "tup1 = tuple(lst1)\n",
        "print(tup1)"
      ],
      "metadata": {
        "colab": {
          "base_uri": "https://localhost:8080/"
        },
        "id": "GzWkwAxtJRP6",
        "outputId": "4543a7f7-b8fe-4388-92dd-51357fb33a88"
      },
      "execution_count": null,
      "outputs": [
        {
          "output_type": "stream",
          "name": "stdout",
          "text": [
            "('onion', 'tomato', 'carrot', 'beetroot')\n",
            "('onion', 'tomato', 'carrot', 'beetroot', 'potato')\n"
          ]
        }
      ]
    },
    {
      "cell_type": "code",
      "source": [
        "tup2 = ('a', 'a', 'b', 'd', 'c', 'd', 'd', 'd', 'b')\n",
        "tup2.count('d')"
      ],
      "metadata": {
        "colab": {
          "base_uri": "https://localhost:8080/"
        },
        "id": "CW4Y189zKSZM",
        "outputId": "0eb0c6a2-bb7a-4463-cdbe-739711ab8c24"
      },
      "execution_count": null,
      "outputs": [
        {
          "output_type": "execute_result",
          "data": {
            "text/plain": [
              "4"
            ]
          },
          "metadata": {},
          "execution_count": 5
        }
      ]
    },
    {
      "cell_type": "code",
      "source": [
        "tup2.index('c')"
      ],
      "metadata": {
        "colab": {
          "base_uri": "https://localhost:8080/"
        },
        "id": "WOkZdyFJLrDW",
        "outputId": "de752775-24f0-48d6-edcf-4f4e1248477d"
      },
      "execution_count": null,
      "outputs": [
        {
          "output_type": "execute_result",
          "data": {
            "text/plain": [
              "4"
            ]
          },
          "metadata": {},
          "execution_count": 6
        }
      ]
    },
    {
      "cell_type": "code",
      "source": [
        "tup3 = ('apple', 'banana', 'cherry')\n",
        "\n",
        "a, b, c = (tup3)\n",
        "\n",
        "print(a)\n",
        "print(b)\n",
        "print(c)"
      ],
      "metadata": {
        "colab": {
          "base_uri": "https://localhost:8080/"
        },
        "id": "8h1ihZIHL5wp",
        "outputId": "82916a94-f29c-4ead-a296-97a5ab23d359"
      },
      "execution_count": null,
      "outputs": [
        {
          "output_type": "stream",
          "name": "stdout",
          "text": [
            "apple\n",
            "banana\n",
            "cherry\n"
          ]
        }
      ]
    },
    {
      "cell_type": "markdown",
      "source": [
        "## Set and its Methods"
      ],
      "metadata": {
        "id": "CxZAAlKNWFib"
      }
    },
    {
      "cell_type": "code",
      "source": [
        "set1 = {1, 2, 3, 4, 5}\n",
        "set2 = {'b', 'c', 'd', 'e'}\n",
        "print(set1)\n",
        "print(set2)"
      ],
      "metadata": {
        "id": "OJnSOSX2MWko",
        "colab": {
          "base_uri": "https://localhost:8080/"
        },
        "outputId": "dbd341be-c80c-41c7-f52b-ed9f115f47dc"
      },
      "execution_count": null,
      "outputs": [
        {
          "output_type": "stream",
          "name": "stdout",
          "text": [
            "{1, 2, 3, 4, 5}\n",
            "{'c', 'e', 'd', 'b'}\n"
          ]
        }
      ]
    },
    {
      "cell_type": "code",
      "source": [
        "set2.add('f')\n",
        "print(set2)"
      ],
      "metadata": {
        "colab": {
          "base_uri": "https://localhost:8080/"
        },
        "id": "4Rt4FHjzKMjN",
        "outputId": "992f1014-df9f-4fb3-e790-c05ff7f2fa1a"
      },
      "execution_count": null,
      "outputs": [
        {
          "output_type": "stream",
          "name": "stdout",
          "text": [
            "{'e', 'c', 'd', 'f', 'b'}\n"
          ]
        }
      ]
    },
    {
      "cell_type": "code",
      "source": [
        "set2.remove('b')\n",
        "print(set2)"
      ],
      "metadata": {
        "colab": {
          "base_uri": "https://localhost:8080/"
        },
        "id": "L4VbTk4bLi_H",
        "outputId": "017ed098-38fe-4561-b1fa-f0a50d8e9db8"
      },
      "execution_count": null,
      "outputs": [
        {
          "output_type": "stream",
          "name": "stdout",
          "text": [
            "{'e', 'c', 'd', 'f'}\n"
          ]
        }
      ]
    },
    {
      "cell_type": "code",
      "source": [
        "set3 = {'pen', 'pencil', 'eraser'}\n",
        "set4 = {'ruler', 'marker', 'notebook'}\n",
        "\n",
        "set3.update(set4)\n",
        "print(set3)"
      ],
      "metadata": {
        "colab": {
          "base_uri": "https://localhost:8080/"
        },
        "id": "KA9i6DRoL3sd",
        "outputId": "dbc7c6af-b318-4610-90e6-a1f3d16e3ba5"
      },
      "execution_count": null,
      "outputs": [
        {
          "output_type": "stream",
          "name": "stdout",
          "text": [
            "{'ruler', 'eraser', 'pen', 'marker', 'pencil', 'notebook'}\n"
          ]
        }
      ]
    },
    {
      "cell_type": "markdown",
      "source": [
        "## Dictionary and its Methods"
      ],
      "metadata": {
        "id": "TxoOdTPZWKDw"
      }
    },
    {
      "cell_type": "code",
      "source": [
        "d1 = {'name': 'ali', 'age': 23, 'country': 'India'}\n",
        "print(d1)"
      ],
      "metadata": {
        "colab": {
          "base_uri": "https://localhost:8080/"
        },
        "id": "qCyz3v0RMel7",
        "outputId": "9783f712-8a5e-491b-ddc9-7c3e8ca781da"
      },
      "execution_count": null,
      "outputs": [
        {
          "output_type": "stream",
          "name": "stdout",
          "text": [
            "{'name': 'ali', 'age': 23, 'country': 'India'}\n"
          ]
        }
      ]
    },
    {
      "cell_type": "code",
      "source": [
        "print(d1['name'])\n",
        "print(d1['age'])\n",
        "print(d1['country'])"
      ],
      "metadata": {
        "colab": {
          "base_uri": "https://localhost:8080/"
        },
        "id": "eOJ89Q7pNgS_",
        "outputId": "b55e1f68-6088-4033-9782-7948178d7f40"
      },
      "execution_count": null,
      "outputs": [
        {
          "output_type": "stream",
          "name": "stdout",
          "text": [
            "ali\n",
            "23\n",
            "India\n"
          ]
        }
      ]
    },
    {
      "cell_type": "code",
      "source": [
        "print(d1.get('name'))\n",
        "print(d1.get('age'))\n",
        "print(d1.get('country'))"
      ],
      "metadata": {
        "id": "mXn5oVpOTcHo",
        "colab": {
          "base_uri": "https://localhost:8080/"
        },
        "outputId": "6f6873f8-5800-48a3-9843-d4271fb1a629"
      },
      "execution_count": null,
      "outputs": [
        {
          "output_type": "stream",
          "name": "stdout",
          "text": [
            "ali\n",
            "23\n",
            "India\n"
          ]
        }
      ]
    },
    {
      "cell_type": "code",
      "source": [
        "print(d1.keys())"
      ],
      "metadata": {
        "colab": {
          "base_uri": "https://localhost:8080/"
        },
        "id": "IOTaeHiBd8Yp",
        "outputId": "884e2f7f-44f2-423f-9418-6e96bcf5e298"
      },
      "execution_count": null,
      "outputs": [
        {
          "output_type": "stream",
          "name": "stdout",
          "text": [
            "dict_keys(['name', 'age', 'country'])\n"
          ]
        }
      ]
    },
    {
      "cell_type": "code",
      "source": [
        "print(d1.values())"
      ],
      "metadata": {
        "colab": {
          "base_uri": "https://localhost:8080/"
        },
        "id": "VMxR5oe-eLfr",
        "outputId": "7c83771c-7d03-4369-ab90-4aeed2b38819"
      },
      "execution_count": null,
      "outputs": [
        {
          "output_type": "stream",
          "name": "stdout",
          "text": [
            "dict_values(['ali', 23, 'India'])\n"
          ]
        }
      ]
    },
    {
      "cell_type": "code",
      "source": [
        "print(d1.items())"
      ],
      "metadata": {
        "colab": {
          "base_uri": "https://localhost:8080/"
        },
        "id": "X0mLa70beiUl",
        "outputId": "84e35b72-2a99-43f3-9c5e-c00d904109ed"
      },
      "execution_count": null,
      "outputs": [
        {
          "output_type": "stream",
          "name": "stdout",
          "text": [
            "dict_items([('name', 'ali'), ('age', 23), ('country', 'India')])\n"
          ]
        }
      ]
    },
    {
      "cell_type": "code",
      "source": [
        "print(d1)\n",
        "d1['name'] = 'abbas'\n",
        "print(d1)"
      ],
      "metadata": {
        "colab": {
          "base_uri": "https://localhost:8080/"
        },
        "id": "5v97Ld2Cev3f",
        "outputId": "d9d7fffb-378d-4c96-b42f-14e8dfc49f87"
      },
      "execution_count": null,
      "outputs": [
        {
          "output_type": "stream",
          "name": "stdout",
          "text": [
            "{'name': 'ali', 'age': 23, 'country': 'India'}\n",
            "{'name': 'abbas', 'age': 23, 'country': 'India'}\n"
          ]
        }
      ]
    },
    {
      "cell_type": "code",
      "source": [
        "print(d1)\n",
        "d1.pop('age')\n",
        "print(d1)"
      ],
      "metadata": {
        "colab": {
          "base_uri": "https://localhost:8080/"
        },
        "id": "bWSVu9FQfmdn",
        "outputId": "f5cdf17d-5f44-48ea-a2b1-6e23395c8557"
      },
      "execution_count": null,
      "outputs": [
        {
          "output_type": "stream",
          "name": "stdout",
          "text": [
            "{'name': 'abbas', 'age': 23, 'country': 'India'}\n",
            "{'name': 'abbas', 'country': 'India'}\n"
          ]
        }
      ]
    },
    {
      "cell_type": "code",
      "source": [
        "print(d1)\n",
        "\n",
        "d1.clear()\n",
        "\n",
        "print(d1)"
      ],
      "metadata": {
        "colab": {
          "base_uri": "https://localhost:8080/"
        },
        "id": "VuDhDzJogOz9",
        "outputId": "aac9d2d3-2811-4dd6-8a7a-9ce00067d718"
      },
      "execution_count": null,
      "outputs": [
        {
          "output_type": "stream",
          "name": "stdout",
          "text": [
            "{'name': 'abbas', 'country': 'India'}\n",
            "{}\n"
          ]
        }
      ]
    },
    {
      "cell_type": "markdown",
      "source": [
        "# String Manipulation"
      ],
      "metadata": {
        "id": "CvopQtOSWQxr"
      }
    },
    {
      "cell_type": "code",
      "source": [
        "s1 = 'I am Learning Python'\n",
        "\n",
        "print(s1[0])\n",
        "print(s1[1])\n",
        "print(s1[2])\n"
      ],
      "metadata": {
        "colab": {
          "base_uri": "https://localhost:8080/"
        },
        "id": "frCVufsLgqD7",
        "outputId": "d58cf481-9d16-4c5c-ee1b-7fa5aca8f251"
      },
      "execution_count": null,
      "outputs": [
        {
          "output_type": "stream",
          "name": "stdout",
          "text": [
            "I\n",
            " \n",
            "a\n"
          ]
        }
      ]
    },
    {
      "cell_type": "code",
      "source": [
        "print(s1.upper())"
      ],
      "metadata": {
        "colab": {
          "base_uri": "https://localhost:8080/"
        },
        "id": "5Lb0frXyjFIC",
        "outputId": "db741f85-9ba5-4409-b501-668d87b7a1dd"
      },
      "execution_count": null,
      "outputs": [
        {
          "output_type": "stream",
          "name": "stdout",
          "text": [
            "I AM LEARNING PYTHON\n"
          ]
        }
      ]
    },
    {
      "cell_type": "code",
      "source": [
        "print(s1.lower())"
      ],
      "metadata": {
        "colab": {
          "base_uri": "https://localhost:8080/"
        },
        "id": "SQ0VTx6Lk7pS",
        "outputId": "86c24df7-ba1c-4a72-ed38-7efed7fbd2fa"
      },
      "execution_count": null,
      "outputs": [
        {
          "output_type": "stream",
          "name": "stdout",
          "text": [
            "i am learning python\n"
          ]
        }
      ]
    },
    {
      "cell_type": "code",
      "source": [
        "print(s1.replace('Python', 'To Code'))"
      ],
      "metadata": {
        "colab": {
          "base_uri": "https://localhost:8080/"
        },
        "id": "GF50kVYBlQpb",
        "outputId": "630a9802-1b63-43f4-8062-3a0b0cc6fac8"
      },
      "execution_count": null,
      "outputs": [
        {
          "output_type": "stream",
          "name": "stdout",
          "text": [
            "I am Learning To Code\n"
          ]
        }
      ]
    },
    {
      "cell_type": "code",
      "source": [
        "s2 = 'I am learning python programming'\n",
        "s3 = 'I,am,learning,python,programming'\n",
        "s4 = 'I;am;learning;python;programming'\n",
        "\n",
        "print(s2.split(\" \"))\n",
        "print(s3.split(\",\"))\n",
        "print(s4.split(\";\"))"
      ],
      "metadata": {
        "colab": {
          "base_uri": "https://localhost:8080/"
        },
        "id": "hvcnTi8GmDqU",
        "outputId": "798ffbd5-4ba9-47c6-c244-0ebed13ab026"
      },
      "execution_count": null,
      "outputs": [
        {
          "output_type": "stream",
          "name": "stdout",
          "text": [
            "['I', 'am', 'learning', 'python', 'programming']\n",
            "['I', 'am', 'learning', 'python', 'programming']\n",
            "['I', 'am', 'learning', 'python', 'programming']\n"
          ]
        }
      ]
    },
    {
      "cell_type": "code",
      "source": [
        "age = 23\n",
        "s1 = f\"My age is {age}\"\n",
        "print(s1)"
      ],
      "metadata": {
        "colab": {
          "base_uri": "https://localhost:8080/"
        },
        "id": "tn4PCZSYngdv",
        "outputId": "11796515-4e7f-42d2-dccc-1c1ad278fdae"
      },
      "execution_count": null,
      "outputs": [
        {
          "output_type": "stream",
          "name": "stdout",
          "text": [
            "My age is 23\n"
          ]
        }
      ]
    },
    {
      "cell_type": "code",
      "source": [
        "name = 'Ali'\n",
        "age = 23\n",
        "s2 = f\"My name is {name} and my age is {age}\"\n",
        "print(s2)"
      ],
      "metadata": {
        "id": "hEYvlISJpDCD",
        "outputId": "65b2ea87-1b76-4caf-c787-1cd0bc91e46d",
        "colab": {
          "base_uri": "https://localhost:8080/"
        }
      },
      "execution_count": null,
      "outputs": [
        {
          "output_type": "stream",
          "name": "stdout",
          "text": [
            "My name is Ali and my age is 23\n"
          ]
        }
      ]
    },
    {
      "cell_type": "markdown",
      "source": [
        "# Control Flow"
      ],
      "metadata": {
        "id": "drkTIgLmWddS"
      }
    },
    {
      "cell_type": "markdown",
      "source": [
        "## if, if-else, if-elif-else"
      ],
      "metadata": {
        "id": "YlvSBEalWfdK"
      }
    },
    {
      "cell_type": "code",
      "source": [
        "if (5 > 3):\n",
        "  print(\"Yes\")"
      ],
      "metadata": {
        "id": "EsAvQSBdpFzM",
        "colab": {
          "base_uri": "https://localhost:8080/"
        },
        "outputId": "c6faf67c-6ed7-48b3-d6bf-8ff6772576b2"
      },
      "execution_count": null,
      "outputs": [
        {
          "output_type": "stream",
          "name": "stdout",
          "text": [
            "Yes\n"
          ]
        }
      ]
    },
    {
      "cell_type": "code",
      "source": [
        "if (67 > 97):\n",
        "  print(\"Yes\")\n",
        "else:\n",
        "  print('No')"
      ],
      "metadata": {
        "colab": {
          "base_uri": "https://localhost:8080/"
        },
        "id": "33wMX1N7PwMJ",
        "outputId": "4d11c137-808d-4ca1-9845-55495a7a6d79"
      },
      "execution_count": null,
      "outputs": [
        {
          "output_type": "stream",
          "name": "stdout",
          "text": [
            "No\n"
          ]
        }
      ]
    },
    {
      "cell_type": "code",
      "source": [
        "if 'o' in 'Python':\n",
        "  print(\"Yes, there is 'o' in Python\")\n",
        "else:\n",
        "  print(\"Nope\")"
      ],
      "metadata": {
        "colab": {
          "base_uri": "https://localhost:8080/"
        },
        "id": "LK2bfErWQg20",
        "outputId": "7d42a411-4311-492d-a773-6c6ebdaa3581"
      },
      "execution_count": null,
      "outputs": [
        {
          "output_type": "stream",
          "name": "stdout",
          "text": [
            "Yes, there is 'o' in Python\n"
          ]
        }
      ]
    },
    {
      "cell_type": "code",
      "source": [
        "if 4 in [1, 2, 3, 4, 5]:\n",
        "  print(\"Yes, 4 is there in the list\")\n",
        "else:\n",
        "  print(\"Nope\")"
      ],
      "metadata": {
        "colab": {
          "base_uri": "https://localhost:8080/"
        },
        "id": "m1-8tv5iRpat",
        "outputId": "ec37e1a7-eb8e-4cd3-d659-5f24878c6f3e"
      },
      "execution_count": null,
      "outputs": [
        {
          "output_type": "stream",
          "name": "stdout",
          "text": [
            "Yes, 4 is there in the list\n"
          ]
        }
      ]
    },
    {
      "cell_type": "code",
      "source": [
        "if ('z' in 'abbas'):\n",
        "  print(\"Yes, 'z' is there in 'abbas'\")\n",
        "elif ('s' in 'abbas'):\n",
        "  print(\"Yes, 's' is there in 'abbas'\")\n",
        "else:\n",
        "  print(\"Both if and elif conditions are False\")"
      ],
      "metadata": {
        "colab": {
          "base_uri": "https://localhost:8080/"
        },
        "id": "8Dxi5BRISEo6",
        "outputId": "33550d42-a010-4572-f462-ca7c8591e9a2"
      },
      "execution_count": null,
      "outputs": [
        {
          "output_type": "stream",
          "name": "stdout",
          "text": [
            "Yes, 's' is there in 'abbas'\n"
          ]
        }
      ]
    },
    {
      "cell_type": "code",
      "source": [
        "score = 85\n",
        "\n",
        "if score >= 90:\n",
        "    grade = 'A'\n",
        "elif score >= 80:\n",
        "    grade = 'B'\n",
        "elif score >= 70:\n",
        "    grade = 'C'\n",
        "elif score >= 60:\n",
        "    grade = 'D'\n",
        "else:\n",
        "    grade = 'F'\n",
        "\n",
        "print(f\"For a score of {score}, the grade is {grade}\")"
      ],
      "metadata": {
        "colab": {
          "base_uri": "https://localhost:8080/"
        },
        "id": "jZvmL2p_TCVZ",
        "outputId": "5a3dbdf9-fb2e-488e-d811-d63f30974beb"
      },
      "execution_count": null,
      "outputs": [
        {
          "output_type": "stream",
          "name": "stdout",
          "text": [
            "For a score of 85, the grade is B\n"
          ]
        }
      ]
    },
    {
      "cell_type": "markdown",
      "source": [
        "## while loop"
      ],
      "metadata": {
        "id": "KC0knAv0WlWq"
      }
    },
    {
      "cell_type": "code",
      "source": [
        "a = 0\n",
        "\n",
        "while a < 5:\n",
        "  print(a)\n",
        "  a += 1"
      ],
      "metadata": {
        "colab": {
          "base_uri": "https://localhost:8080/"
        },
        "id": "g5ND0hBbTjLh",
        "outputId": "8def8ba7-2249-4490-c9ff-57c86fbc93f8"
      },
      "execution_count": null,
      "outputs": [
        {
          "output_type": "stream",
          "name": "stdout",
          "text": [
            "0\n",
            "1\n",
            "2\n",
            "3\n",
            "4\n"
          ]
        }
      ]
    },
    {
      "cell_type": "code",
      "source": [
        "a = ['a', 'a', 'a', 'a', 'a']\n",
        "\n",
        "while 'a' in a:\n",
        "  print(a)\n",
        "  a.pop()"
      ],
      "metadata": {
        "colab": {
          "base_uri": "https://localhost:8080/"
        },
        "id": "G85XtauJVSno",
        "outputId": "a17dc4a9-7598-4368-ea26-a10bcd30b919"
      },
      "execution_count": null,
      "outputs": [
        {
          "output_type": "stream",
          "name": "stdout",
          "text": [
            "['a', 'a', 'a', 'a', 'a']\n",
            "['a', 'a', 'a', 'a']\n",
            "['a', 'a', 'a']\n",
            "['a', 'a']\n",
            "['a']\n"
          ]
        }
      ]
    },
    {
      "cell_type": "markdown",
      "source": [
        "## for loop"
      ],
      "metadata": {
        "id": "223NjZzfWoIe"
      }
    },
    {
      "cell_type": "code",
      "source": [
        "for i in \"python\":\n",
        "  print(i)"
      ],
      "metadata": {
        "colab": {
          "base_uri": "https://localhost:8080/"
        },
        "id": "HbPV82I9YCLY",
        "outputId": "2eacdd6e-dafc-4f17-e850-1074fd3fd8f0"
      },
      "execution_count": null,
      "outputs": [
        {
          "output_type": "stream",
          "name": "stdout",
          "text": [
            "p\n",
            "y\n",
            "t\n",
            "h\n",
            "o\n",
            "n\n"
          ]
        }
      ]
    },
    {
      "cell_type": "code",
      "source": [
        "for i in ['a', 'b', 'c', 'd', 'e']:\n",
        "  print(i)"
      ],
      "metadata": {
        "colab": {
          "base_uri": "https://localhost:8080/"
        },
        "id": "btIjCRpgZyps",
        "outputId": "0a9bf112-fc0f-4bd1-913a-623be8aeba3f"
      },
      "execution_count": null,
      "outputs": [
        {
          "output_type": "stream",
          "name": "stdout",
          "text": [
            "a\n",
            "b\n",
            "c\n",
            "d\n",
            "e\n"
          ]
        }
      ]
    },
    {
      "cell_type": "code",
      "source": [
        "for i in (1, 2, 3, 4, 5):\n",
        "  print(i)"
      ],
      "metadata": {
        "colab": {
          "base_uri": "https://localhost:8080/"
        },
        "id": "cBoa1vC4Z0Ls",
        "outputId": "801bb389-36b8-4451-f301-20c5e999630e"
      },
      "execution_count": null,
      "outputs": [
        {
          "output_type": "stream",
          "name": "stdout",
          "text": [
            "1\n",
            "2\n",
            "3\n",
            "4\n",
            "5\n"
          ]
        }
      ]
    },
    {
      "cell_type": "code",
      "source": [
        "for i in {1, 2, 3, 4, 5}:\n",
        "  print(i)"
      ],
      "metadata": {
        "colab": {
          "base_uri": "https://localhost:8080/"
        },
        "id": "tIjl7o8tZ1qy",
        "outputId": "6d71fbb6-8ff1-4418-d17e-4c83cc2a3d14"
      },
      "execution_count": null,
      "outputs": [
        {
          "output_type": "stream",
          "name": "stdout",
          "text": [
            "1\n",
            "2\n",
            "3\n",
            "4\n",
            "5\n"
          ]
        }
      ]
    },
    {
      "cell_type": "code",
      "source": [
        "for i in range(10):\n",
        "  print(i)"
      ],
      "metadata": {
        "colab": {
          "base_uri": "https://localhost:8080/"
        },
        "id": "yMD8OxtpZ4GL",
        "outputId": "f0f0eed8-f84a-49fe-89f0-570c89bd83ef"
      },
      "execution_count": null,
      "outputs": [
        {
          "output_type": "stream",
          "name": "stdout",
          "text": [
            "0\n",
            "1\n",
            "2\n",
            "3\n",
            "4\n",
            "5\n",
            "6\n",
            "7\n",
            "8\n",
            "9\n"
          ]
        }
      ]
    },
    {
      "cell_type": "code",
      "source": [
        "for i in range(2, 20):\n",
        "  print(i)"
      ],
      "metadata": {
        "colab": {
          "base_uri": "https://localhost:8080/"
        },
        "id": "pDaWEZbqZ_7U",
        "outputId": "28143408-f3a3-4a82-ce08-53f79485313d"
      },
      "execution_count": null,
      "outputs": [
        {
          "output_type": "stream",
          "name": "stdout",
          "text": [
            "2\n",
            "3\n",
            "4\n",
            "5\n",
            "6\n",
            "7\n",
            "8\n",
            "9\n",
            "10\n",
            "11\n",
            "12\n",
            "13\n",
            "14\n",
            "15\n",
            "16\n",
            "17\n",
            "18\n",
            "19\n"
          ]
        }
      ]
    },
    {
      "cell_type": "code",
      "source": [
        "for i in range(2, 21, 2):\n",
        "  print(i)"
      ],
      "metadata": {
        "colab": {
          "base_uri": "https://localhost:8080/"
        },
        "id": "HF038haxb1hN",
        "outputId": "d0fae707-440a-4814-8427-ab0092eec0cc"
      },
      "execution_count": null,
      "outputs": [
        {
          "output_type": "stream",
          "name": "stdout",
          "text": [
            "2\n",
            "4\n",
            "6\n",
            "8\n",
            "10\n",
            "12\n",
            "14\n",
            "16\n",
            "18\n",
            "20\n"
          ]
        }
      ]
    },
    {
      "cell_type": "code",
      "source": [
        "number = 87\n",
        "for i in range(1, 11):\n",
        "  print(f\"{number} x {i} = {number * i}\")"
      ],
      "metadata": {
        "colab": {
          "base_uri": "https://localhost:8080/"
        },
        "id": "ZElE37RgcZYe",
        "outputId": "016ef2e4-c9d2-4132-f3d9-39aa28634268"
      },
      "execution_count": null,
      "outputs": [
        {
          "output_type": "stream",
          "name": "stdout",
          "text": [
            "87 x 1 = 87\n",
            "87 x 2 = 174\n",
            "87 x 3 = 261\n",
            "87 x 4 = 348\n",
            "87 x 5 = 435\n",
            "87 x 6 = 522\n",
            "87 x 7 = 609\n",
            "87 x 8 = 696\n",
            "87 x 9 = 783\n",
            "87 x 10 = 870\n"
          ]
        }
      ]
    },
    {
      "cell_type": "markdown",
      "source": [
        "## break and continue"
      ],
      "metadata": {
        "id": "eo0NVhDXWwU-"
      }
    },
    {
      "cell_type": "code",
      "source": [
        "fruits = [\"apple\", \"banana\", \"cherry\", \"date\", \"orange\"]\n",
        "\n",
        "for fruit in fruits:\n",
        "    if fruit == \"date\":\n",
        "        break\n",
        "    print(fruit)"
      ],
      "metadata": {
        "colab": {
          "base_uri": "https://localhost:8080/"
        },
        "id": "Wsh5I0zKdM3-",
        "outputId": "2c9f73f2-00b1-4f65-9d4e-9df0a35e2239"
      },
      "execution_count": null,
      "outputs": [
        {
          "output_type": "stream",
          "name": "stdout",
          "text": [
            "apple\n",
            "banana\n",
            "cherry\n"
          ]
        }
      ]
    },
    {
      "cell_type": "code",
      "source": [
        "fruits = [\"apple\", \"banana\", \"cherry\", \"date\", \"orange\"]\n",
        "\n",
        "for fruit in fruits:\n",
        "    if fruit == \"date\":\n",
        "        continue\n",
        "    print(fruit)"
      ],
      "metadata": {
        "colab": {
          "base_uri": "https://localhost:8080/"
        },
        "id": "xpTxlfoQeCdq",
        "outputId": "b1d2f9f8-e2be-4803-a93a-03197ae51ba0"
      },
      "execution_count": null,
      "outputs": [
        {
          "output_type": "stream",
          "name": "stdout",
          "text": [
            "apple\n",
            "banana\n",
            "cherry\n",
            "orange\n"
          ]
        }
      ]
    },
    {
      "cell_type": "markdown",
      "source": [
        "# Functions"
      ],
      "metadata": {
        "id": "sYV_LsyMWz7i"
      }
    },
    {
      "cell_type": "code",
      "source": [
        "def greeting():\n",
        "  print(\"Hey, How are you?\")\n",
        "\n",
        "greeting()"
      ],
      "metadata": {
        "id": "dw_rQvxafYmo",
        "colab": {
          "base_uri": "https://localhost:8080/"
        },
        "outputId": "44509247-4056-4ec0-e914-4f583800bf3d"
      },
      "execution_count": 1,
      "outputs": [
        {
          "output_type": "stream",
          "name": "stdout",
          "text": [
            "Hey, How are you?\n"
          ]
        }
      ]
    },
    {
      "cell_type": "code",
      "source": [
        "def myname(name):\n",
        "  print(f\"My name is {name}\")\n",
        "\n",
        "myname(\"Ali\")"
      ],
      "metadata": {
        "colab": {
          "base_uri": "https://localhost:8080/"
        },
        "id": "kvwNxhmOYS0p",
        "outputId": "0adf6dcc-69b1-41be-e1fd-40d58b8374c3"
      },
      "execution_count": 2,
      "outputs": [
        {
          "output_type": "stream",
          "name": "stdout",
          "text": [
            "My name is Ali\n"
          ]
        }
      ]
    },
    {
      "cell_type": "code",
      "source": [
        "def add(num1, num2):\n",
        "  print(num1 + num2)\n",
        "\n",
        "add(2, 3)\n",
        "add(4, 5)\n",
        "add(45, 24)"
      ],
      "metadata": {
        "colab": {
          "base_uri": "https://localhost:8080/"
        },
        "id": "wQFRrnijYw1I",
        "outputId": "c6562f02-38fb-4a34-eafc-f71297910407"
      },
      "execution_count": 4,
      "outputs": [
        {
          "output_type": "stream",
          "name": "stdout",
          "text": [
            "5\n",
            "9\n",
            "69\n"
          ]
        }
      ]
    },
    {
      "cell_type": "code",
      "source": [
        "def areaofcircle(radius):\n",
        "  area = 3.14 * radius * radius\n",
        "  return area\n",
        "\n",
        "print(areaofcircle(10))"
      ],
      "metadata": {
        "colab": {
          "base_uri": "https://localhost:8080/"
        },
        "id": "m71jVkxXZVDQ",
        "outputId": "d7a19d02-0113-4b33-c4d2-8efbe2a98971"
      },
      "execution_count": 5,
      "outputs": [
        {
          "output_type": "stream",
          "name": "stdout",
          "text": [
            "314.0\n"
          ]
        }
      ]
    },
    {
      "cell_type": "markdown",
      "source": [
        "# User-Input"
      ],
      "metadata": {
        "id": "rk8WsaZpdIvR"
      }
    },
    {
      "cell_type": "code",
      "source": [
        "name = input(\"Enter your name: \")\n",
        "print(name)"
      ],
      "metadata": {
        "colab": {
          "base_uri": "https://localhost:8080/"
        },
        "id": "TrNE47EVZ-9g",
        "outputId": "7bc62223-e822-49b2-83da-511b8d54df59"
      },
      "execution_count": 8,
      "outputs": [
        {
          "output_type": "stream",
          "name": "stdout",
          "text": [
            "Enter your name: abbas\n",
            "abbas\n"
          ]
        }
      ]
    },
    {
      "cell_type": "code",
      "source": [
        "print(\"Adding two numbers:\")\n",
        "num1 = input('Enter num1: ')\n",
        "num2 = input('Enter num2: ' )\n",
        "print(num1 + num2)"
      ],
      "metadata": {
        "colab": {
          "base_uri": "https://localhost:8080/"
        },
        "id": "2D3zP5Pgf8V6",
        "outputId": "1cd1ec16-7798-4edf-8b70-3707957d3727"
      },
      "execution_count": 10,
      "outputs": [
        {
          "output_type": "stream",
          "name": "stdout",
          "text": [
            "Adding two numbers:\n",
            "Enter num1: 44\n",
            "Enter num2: 56\n",
            "4456\n"
          ]
        }
      ]
    },
    {
      "cell_type": "code",
      "source": [
        "print(\"Adding two numbers:\")\n",
        "num1 = int(input('Enter num1: '))\n",
        "num2 = int(input('Enter num2: ' ))\n",
        "print(num1 + num2)"
      ],
      "metadata": {
        "colab": {
          "base_uri": "https://localhost:8080/"
        },
        "id": "bFUGH7Afg6qf",
        "outputId": "f02cf8e1-b103-4baf-c881-d5777ef4bd78"
      },
      "execution_count": 11,
      "outputs": [
        {
          "output_type": "stream",
          "name": "stdout",
          "text": [
            "Adding two numbers:\n",
            "Enter num1: 44\n",
            "Enter num2: 56\n",
            "100\n"
          ]
        }
      ]
    },
    {
      "cell_type": "markdown",
      "source": [
        "# Projects"
      ],
      "metadata": {
        "id": "cG_c2otIe3qf"
      }
    },
    {
      "cell_type": "code",
      "source": [
        "# Currency Convertor\n",
        "\n",
        "print(\"---------Currency Convertor---------\")\n",
        "print(\"1. INR to USD\")\n",
        "print(\"2. USD to INR\")\n",
        "\n",
        "user_choice = int(input(\"Enter Your Choice(1 or 2): \"))\n",
        "\n",
        "if user_choice == 1:\n",
        "  amount = float(input(\"Enter Your INR Amount: \"))\n",
        "  amount_in_usd = amount * 0.012033904\n",
        "  print(f\"INR {amount} is USD {amount_in_usd}\")\n",
        "\n",
        "elif user_choice == 2:\n",
        "  amount = float(input(\"Enter Your USD Amount: \"))\n",
        "  amount_in_inr = amount * 83.102881\n",
        "  print(f'USD {amount} is INR {amount_in_inr}')\n",
        "\n",
        "else:\n",
        "  print(\"Invalid Choice!\")"
      ],
      "metadata": {
        "id": "UU9APpq1dPYi"
      },
      "execution_count": null,
      "outputs": []
    },
    {
      "cell_type": "code",
      "source": [
        "# Rock Paper Scissor\n",
        "\n",
        "import random\n",
        "\n",
        "choices = ['Rock', 'Paper', 'Scissors']\n",
        "\n",
        "computer_choice = random.choice(choices)\n",
        "\n",
        "user_choice = input(\"Enter Your Choice (Rock or Paper or Scissors): \")\n",
        "\n",
        "if computer_choice == user_choice.capitalize():\n",
        "  print(\"Draw\")\n",
        "\n",
        "elif computer_choice == 'Rock' and user_choice.capitalize() == \"Paper\":\n",
        "  print(\"You Win!\")\n",
        "\n",
        "elif computer_choice == \"Paper\" and user_choice.capitalize() == \"Scissors\":\n",
        "  print(\"You Win!\")\n",
        "\n",
        "else:\n",
        "  print(\"Computer Wins!\")"
      ],
      "metadata": {
        "id": "JNIJQxF9rzes"
      },
      "execution_count": null,
      "outputs": []
    },
    {
      "cell_type": "code",
      "source": [
        "# Simple Calculator\n",
        "\n",
        "print(\"----------Simple Calculator----------\")\n",
        "print(\"1. +\")\n",
        "print(\"2. -\")\n",
        "print(\"3. *\")\n",
        "print(\"4. /\")\n",
        "\n",
        "user_choice = int(input(\"Chose Your Operator(1, 2, 3, or 4): \"))\n",
        "\n",
        "num1 = float(input(\"Enter Firt Number: \"))\n",
        "num2 = float(input(\"Enter Second Number:\"))\n",
        "\n",
        "if user_choice == 1:\n",
        "  add = num1 + num2\n",
        "  print(f\"{num1} + {num2} = {sum}\")\n",
        "\n",
        "elif user_choice == 2:\n",
        "  sub = num1 - num2\n",
        "  print(f\"{num1} - {num2} = {sub}\")\n",
        "\n",
        "\n",
        "elif user_choice == 3:\n",
        "  mul = num1 * num2\n",
        "  print(f\"{num1} * {num2} = {mul}\")\n",
        "\n",
        "elif user_choice == 4:\n",
        "  div = num1/num2\n",
        "  print(f\"{num1} / {num2} = {div}\")\n",
        "\n",
        "else:\n",
        "  print(\"Invalid Entry! Try Entering 1, 2, 3, or 4!\")\n",
        "\n",
        "\n"
      ],
      "metadata": {
        "id": "LaNl8v-Xr2VI"
      },
      "execution_count": null,
      "outputs": []
    },
    {
      "cell_type": "code",
      "source": [
        "# Number Guessing Game\n",
        "\n",
        "import random\n",
        "\n",
        "print(\"Computer: I am thinking of a number between 1 to 10, can you guess? I will give you 3 chances.\")\n",
        "\n",
        "secret_number = random.randint(1, 10)\n",
        "\n",
        "chances = 1\n",
        "while chances < 4:\n",
        "  user_guess = int(input(\"Enter your Guess: \"))\n",
        "  if secret_number == user_guess:\n",
        "    print(f\"Computer: Awesome!, You got the number in just {chances} guess!\")\n",
        "    break\n",
        "  else:\n",
        "    if chances < 3:\n",
        "      print(\"Computer: No, you are wrong, try again!\")\n",
        "      chances += 1\n",
        "    else:\n",
        "      print(f\"Computer: All 3 chances are over. The number that I was think was {secret_number}\")\n",
        "      break\n",
        "\n"
      ],
      "metadata": {
        "id": "s1aDxKzAr418"
      },
      "execution_count": null,
      "outputs": []
    },
    {
      "cell_type": "code",
      "source": [
        "# Quiz Game\n",
        "\n",
        "print(\"----------General Knowlege Quiz----------\")\n",
        "\n",
        "score = 0\n",
        "\n",
        "print(\"What is India's National Animal?\")\n",
        "print(\"Choose the correct option:\")\n",
        "print(\"1. Lion\")\n",
        "print(\"2. Tiger\")\n",
        "print(\"3. Chetha\")\n",
        "print(\"4. Panter\")\n",
        "\n",
        "answer1 = int(input(\"Enter your option: \"))\n",
        "if answer1 == 2:\n",
        "  print(\"👍\")\n",
        "  score += 1\n",
        "else:\n",
        "  print(\"👎\")\n",
        "\n",
        "print(\"What is India's National Flower?\")\n",
        "print(\"Choose the correct option:\")\n",
        "print(\"1. Lotus\")\n",
        "print(\"2. Lily\")\n",
        "print(\"3. Rose\")\n",
        "print(\"4. Sunflower\")\n",
        "\n",
        "answer2 = int(input(\"Enter your option: \"))\n",
        "if answer2 == 1:\n",
        "  print(\"👍\")\n",
        "  score += 1\n",
        "else:\n",
        "  print(\"👎\")\n",
        "\n",
        "print(\"What is India's National Song?\")\n",
        "print(\"Choose the correct option:\")\n",
        "print(\"1. Jai Ho\")\n",
        "print(\"2. Jana Gana Mana\")\n",
        "print(\"3. Vande Mataram\")\n",
        "print(\"4. Despacito\")\n",
        "\n",
        "answer3 = int(input(\"Enter your option: \"))\n",
        "if answer3 == 3:\n",
        "  print(\"👍\")\n",
        "  score += 1\n",
        "else:\n",
        "  print(\"👎\")\n",
        "\n",
        "print(f\"Your total Score: {score} out of 3\")"
      ],
      "metadata": {
        "id": "_MyxG5w8r4oJ"
      },
      "execution_count": null,
      "outputs": []
    }
  ]
}